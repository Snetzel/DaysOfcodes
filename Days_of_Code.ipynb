{
  "nbformat": 4,
  "nbformat_minor": 0,
  "metadata": {
    "colab": {
      "provenance": [],
      "authorship_tag": "ABX9TyPjfs48uAkZ4F1rQ92+H+LJ",
      "include_colab_link": true
    },
    "kernelspec": {
      "name": "python3",
      "display_name": "Python 3"
    },
    "language_info": {
      "name": "python"
    }
  },
  "cells": [
    {
      "cell_type": "markdown",
      "metadata": {
        "id": "view-in-github",
        "colab_type": "text"
      },
      "source": [
        "<a href=\"https://colab.research.google.com/github/Snetzel/DaysOfcodes/blob/main/Days_of_Code.ipynb\" target=\"_parent\"><img src=\"https://colab.research.google.com/assets/colab-badge.svg\" alt=\"Open In Colab\"/></a>"
      ]
    },
    {
      "cell_type": "code",
      "source": [
        "# Day 1.1\n",
        "\n",
        "print (\"Day 1 - Python Print Function\")\n",
        "print (\"The function is declared like this:\")\n",
        "print (\"print('what to print')\")"
      ],
      "metadata": {
        "colab": {
          "base_uri": "https://localhost:8080/"
        },
        "id": "bmRNr1q-9Wc1",
        "outputId": "5e7360f0-ac6e-49b5-b431-d7d2233bc2a4"
      },
      "execution_count": null,
      "outputs": [
        {
          "output_type": "stream",
          "name": "stdout",
          "text": [
            "Day 1 - Python Print Function\n",
            "The function is declared like this:\n",
            "print('what to print')\n"
          ]
        }
      ]
    },
    {
      "cell_type": "code",
      "source": [
        "# Day 1.2\n",
        "\n",
        "# Note : (\"\\n\") digunakan untuk memulai garis baru\n",
        "\n",
        "print ('Day 1 - String Manipulation\\nString Concatenation is done with the \"+\" sign.\\ne.g. print(\"Hello \" + \"world\")\\nNew lines can be created with a backslash and n.')"
      ],
      "metadata": {
        "colab": {
          "base_uri": "https://localhost:8080/"
        },
        "id": "0F4UnAce9-5R",
        "outputId": "15bc1121-e42e-4761-b585-4e319a86f64b"
      },
      "execution_count": null,
      "outputs": [
        {
          "output_type": "stream",
          "name": "stdout",
          "text": [
            "Day 1 - String Manipulation\n",
            "String Concatenation is done with the \"+\" sign.\n",
            "e.g. print(\"Hello \" + \"world\")\n",
            "New lines can be created with a backslash and n.\n"
          ]
        }
      ]
    },
    {
      "cell_type": "code",
      "source": [
        "# Day 1.3\n",
        "\n",
        "# Note : (\"len\") digunakan untuk menghitung banyak char dalam string\n",
        "\n",
        "# Note : (\"f\") digunakan untuk menyertakan fungsi di dalam string\n",
        "\n",
        "print (len(input(\"What is your name? \")))"
      ],
      "metadata": {
        "colab": {
          "base_uri": "https://localhost:8080/"
        },
        "id": "klHSOGqW-9lm",
        "outputId": "0451a4cd-b13f-49e7-d21e-db96ed8a0737"
      },
      "execution_count": null,
      "outputs": [
        {
          "output_type": "stream",
          "name": "stdout",
          "text": [
            "What is your name? valentyno\n",
            "9\n"
          ]
        }
      ]
    },
    {
      "cell_type": "code",
      "source": [
        "# Day 1.4\n",
        "\n",
        "# Note : (\"None\") jenis tipe data null\n",
        "\n",
        "a = 1\n",
        "b = 2\n",
        "\n",
        "c = None\n",
        "\n",
        "c = a\n",
        "a = b\n",
        "b = c\n",
        "\n",
        "print (f\"a = {a}, b = {b}\")"
      ],
      "metadata": {
        "colab": {
          "base_uri": "https://localhost:8080/"
        },
        "id": "1HKQRBX9_1dd",
        "outputId": "f4e5b034-3aaa-4931-ee79-691a430d11c0"
      },
      "execution_count": null,
      "outputs": [
        {
          "output_type": "stream",
          "name": "stdout",
          "text": [
            "a = 2, b = 1\n"
          ]
        }
      ]
    },
    {
      "cell_type": "code",
      "source": [
        "# Day 1.5\n",
        "\n",
        "nama = input(\"Siapa namamu? \")\n",
        "tempat_tinggal = input(\"Dimana kamu tinggal? \")\n",
        "print (f\"Halo saya {nama}, saya tinggal di {tempat_tinggal}\")"
      ],
      "metadata": {
        "colab": {
          "base_uri": "https://localhost:8080/"
        },
        "id": "CHt7mdiXA8L_",
        "outputId": "9849efb6-8e23-4bfb-8c74-8f3289c675cb"
      },
      "execution_count": null,
      "outputs": [
        {
          "output_type": "stream",
          "name": "stdout",
          "text": [
            "Siapa namamu? valentyno\n",
            "Dimana kamu tinggal? malang\n",
            "Halo saya valentyno, saya tinggal di malang\n"
          ]
        }
      ]
    },
    {
      "cell_type": "code",
      "source": [
        "# Day 2.1\n",
        "\n",
        "# Note : (var[0]) \"0\" digunakan untuk menggambil index dari variabel\n",
        "\n",
        "# Note : (int(var_str)) \"int\" digunakan untuk menggubah tipe data variabel, bisa juga menggunakan \"str\"\n",
        "\n",
        "angka = input(\"Tuliskan angka puluhan acak : \")\n",
        "print (f\"{angka[0]} + {angka[1]} = {int(angka[0]) + int(angka[1])}\")"
      ],
      "metadata": {
        "colab": {
          "base_uri": "https://localhost:8080/"
        },
        "id": "5stB0TNqCLZb",
        "outputId": "6e05a9cc-e30a-4008-914c-686391cdbf7b"
      },
      "execution_count": null,
      "outputs": [
        {
          "output_type": "stream",
          "name": "stdout",
          "text": [
            "Tuliskan angka puluhan acak : 98\n",
            "9 + 8 = 17\n"
          ]
        }
      ]
    },
    {
      "cell_type": "code",
      "source": [
        "# Day 2.2\n",
        "\n",
        "# Rumus BMI adalah berat badan (kg) dibagi tinggi^2 (m^2)\n",
        "\n",
        "berat_badan = input(\"Berat badan (kg) : \")\n",
        "tinggi_badan = input(\"Tinggi badan (m) : \")\n",
        "\n",
        "print (f\"Hasil BMI adalah {int(berat_badan) / float(tinggi_badan) ** 2}\")"
      ],
      "metadata": {
        "colab": {
          "base_uri": "https://localhost:8080/"
        },
        "id": "bLRsilKSERM0",
        "outputId": "305889a2-df30-4a85-ae24-db5d6af83d5e"
      },
      "execution_count": null,
      "outputs": [
        {
          "output_type": "stream",
          "name": "stdout",
          "text": [
            "Berat badan (kg) : 49\n",
            "Tinggi badan (m) : 1.62\n",
            "Hasil BMI adalah 18.670934308794386\n"
          ]
        }
      ]
    },
    {
      "cell_type": "code",
      "source": [
        "# Day 2.3\n",
        "\n",
        "# pertahun ada 365 hari, 52 minggu, dan 12 bulan\n",
        "\n",
        "umur = input(\"Sisa hari, minggu, dan bulan jika umurmu mencapai 90 tahun!\\nBerapa umur mu sekarang : \")\n",
        "sisa_umur = 90 - int(umur)\n",
        "print (f\"Umurmu sisa {sisa_umur * 365} hari, {sisa_umur * 52} minggu, dan {sisa_umur * 12} bulan\")"
      ],
      "metadata": {
        "colab": {
          "base_uri": "https://localhost:8080/"
        },
        "id": "2s-mOe6NGQhB",
        "outputId": "b0a801af-a2a5-4f5d-c674-ba8224321ed7"
      },
      "execution_count": null,
      "outputs": [
        {
          "output_type": "stream",
          "name": "stdout",
          "text": [
            "Sisa hari, minggu, dan bulan jika umurmu mencapai 90 tahun!\n",
            "Berapa umur mu sekarang : 16\n",
            "Umurmu sisa 27010 hari, 3848 minggu, dan 888 bulan\n"
          ]
        }
      ]
    },
    {
      "cell_type": "code",
      "source": [
        "# Day 2.4\n",
        "\n",
        "print (\"Tip Calculator\")\n",
        "biaya = input(\"Berapa total biaya? Rp\")\n",
        "tip = input(\"Berapa persen tip yang ingin anda berikan \")\n",
        "banyak_orang = input(\"Berapa banyak orang membayar \")\n",
        "total_biaya = (((int(tip) / 100) * int(biaya)) + int(biaya))\n",
        "print(f\"Total biaya adalah {biaya}, tip dibagiakan {tip} persen, dan banyak orang adalah {banyak_orang}, maka setiap orang membayar {round(total_biaya / int(banyak_orang))}\")"
      ],
      "metadata": {
        "colab": {
          "base_uri": "https://localhost:8080/"
        },
        "id": "yIqst7SvHsjQ",
        "outputId": "683abb7c-2017-40f9-8d05-dfa4c559030b"
      },
      "execution_count": null,
      "outputs": [
        {
          "output_type": "stream",
          "name": "stdout",
          "text": [
            "Tip Calculator\n",
            "Berapa total biaya? Rp20000\n",
            "Berapa persen tip yang ingin anda berikan 10\n",
            "Berapa banyak orang membayar 5\n",
            "Total biaya adalah 20000, tip dibagiakan 10 persen, dan banyak orang adalah 5, maka setiap orang membayar 4400\n"
          ]
        }
      ]
    }
  ]
}