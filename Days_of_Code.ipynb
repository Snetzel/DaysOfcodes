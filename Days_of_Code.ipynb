{
  "nbformat": 4,
  "nbformat_minor": 0,
  "metadata": {
    "colab": {
      "provenance": [],
      "authorship_tag": "ABX9TyPQq2IGjFUmt9X0K1dGflej",
      "include_colab_link": true
    },
    "kernelspec": {
      "name": "python3",
      "display_name": "Python 3"
    },
    "language_info": {
      "name": "python"
    }
  },
  "cells": [
    {
      "cell_type": "markdown",
      "metadata": {
        "id": "view-in-github",
        "colab_type": "text"
      },
      "source": [
        "<a href=\"https://colab.research.google.com/github/Snetzel/DaysOfcodes/blob/main/Days_of_Code.ipynb\" target=\"_parent\"><img src=\"https://colab.research.google.com/assets/colab-badge.svg\" alt=\"Open In Colab\"/></a>"
      ]
    },
    {
      "cell_type": "code",
      "source": [
        "# Day 1.1\n",
        "\n",
        "print (\"Day 1 - Python Print Function\")\n",
        "print (\"The function is declared like this:\")\n",
        "print (\"print('what to print')\")"
      ],
      "metadata": {
        "colab": {
          "base_uri": "https://localhost:8080/"
        },
        "id": "bmRNr1q-9Wc1",
        "outputId": "5e7360f0-ac6e-49b5-b431-d7d2233bc2a4"
      },
      "execution_count": null,
      "outputs": [
        {
          "output_type": "stream",
          "name": "stdout",
          "text": [
            "Day 1 - Python Print Function\n",
            "The function is declared like this:\n",
            "print('what to print')\n"
          ]
        }
      ]
    },
    {
      "cell_type": "code",
      "source": [
        "# Day 1.2\n",
        "\n",
        "# Note : (\"\\n\") digunakan untuk memulai garis baru\n",
        "\n",
        "print ('Day 1 - String Manipulation\\nString Concatenation is done with the \"+\" sign.\\ne.g. print(\"Hello \" + \"world\")\\nNew lines can be created with a backslash and n.')"
      ],
      "metadata": {
        "colab": {
          "base_uri": "https://localhost:8080/"
        },
        "id": "0F4UnAce9-5R",
        "outputId": "15bc1121-e42e-4761-b585-4e319a86f64b"
      },
      "execution_count": null,
      "outputs": [
        {
          "output_type": "stream",
          "name": "stdout",
          "text": [
            "Day 1 - String Manipulation\n",
            "String Concatenation is done with the \"+\" sign.\n",
            "e.g. print(\"Hello \" + \"world\")\n",
            "New lines can be created with a backslash and n.\n"
          ]
        }
      ]
    },
    {
      "cell_type": "code",
      "source": [
        "# Day 1.3\n",
        "\n",
        "# Note : (\"len\") digunakan untuk menghitung banyak char dalam string\n",
        "\n",
        "# Note : (\"f\") digunakan untuk menyertakan fungsi di dalam string\n",
        "\n",
        "print (len(input(\"What is your name? \")))"
      ],
      "metadata": {
        "colab": {
          "base_uri": "https://localhost:8080/"
        },
        "id": "klHSOGqW-9lm",
        "outputId": "0451a4cd-b13f-49e7-d21e-db96ed8a0737"
      },
      "execution_count": null,
      "outputs": [
        {
          "output_type": "stream",
          "name": "stdout",
          "text": [
            "What is your name? valentyno\n",
            "9\n"
          ]
        }
      ]
    },
    {
      "cell_type": "code",
      "source": [
        "# Day 1.4\n",
        "\n",
        "# Note : (\"None\") jenis tipe data null\n",
        "\n",
        "a = 1\n",
        "b = 2\n",
        "\n",
        "c = None\n",
        "\n",
        "c = a\n",
        "a = b\n",
        "b = c\n",
        "\n",
        "print (f\"a = {a}, b = {b}\")"
      ],
      "metadata": {
        "colab": {
          "base_uri": "https://localhost:8080/"
        },
        "id": "1HKQRBX9_1dd",
        "outputId": "f4e5b034-3aaa-4931-ee79-691a430d11c0"
      },
      "execution_count": null,
      "outputs": [
        {
          "output_type": "stream",
          "name": "stdout",
          "text": [
            "a = 2, b = 1\n"
          ]
        }
      ]
    },
    {
      "cell_type": "code",
      "source": [
        "# Day 1.5\n",
        "\n",
        "nama = input(\"Siapa namamu? \")\n",
        "tempat_tinggal = input(\"Dimana kamu tinggal? \")\n",
        "print (f\"Halo saya {nama}, saya tinggal di {tempat_tinggal}\")"
      ],
      "metadata": {
        "colab": {
          "base_uri": "https://localhost:8080/"
        },
        "id": "CHt7mdiXA8L_",
        "outputId": "9849efb6-8e23-4bfb-8c74-8f3289c675cb"
      },
      "execution_count": null,
      "outputs": [
        {
          "output_type": "stream",
          "name": "stdout",
          "text": [
            "Siapa namamu? valentyno\n",
            "Dimana kamu tinggal? malang\n",
            "Halo saya valentyno, saya tinggal di malang\n"
          ]
        }
      ]
    },
    {
      "cell_type": "code",
      "source": [
        "# Day 2.1\n",
        "\n",
        "# Note : (var[0]) \"0\" digunakan untuk menggambil index dari variabel\n",
        "\n",
        "# Note : (int(var_str)) \"int\" digunakan untuk menggubah tipe data variabel, bisa juga menggunakan \"str\"\n",
        "\n",
        "angka = input(\"Tuliskan angka puluhan acak : \")\n",
        "print (f\"{angka[0]} + {angka[1]} = {int(angka[0]) + int(angka[1])}\")"
      ],
      "metadata": {
        "colab": {
          "base_uri": "https://localhost:8080/"
        },
        "id": "5stB0TNqCLZb",
        "outputId": "6e05a9cc-e30a-4008-914c-686391cdbf7b"
      },
      "execution_count": null,
      "outputs": [
        {
          "output_type": "stream",
          "name": "stdout",
          "text": [
            "Tuliskan angka puluhan acak : 98\n",
            "9 + 8 = 17\n"
          ]
        }
      ]
    },
    {
      "cell_type": "code",
      "source": [
        "# Day 2.2\n",
        "\n",
        "# Rumus BMI adalah berat badan (kg) dibagi tinggi^2 (m^2)\n",
        "\n",
        "berat_badan = input(\"Berat badan (kg) : \")\n",
        "tinggi_badan = input(\"Tinggi badan (m) : \")\n",
        "\n",
        "print (f\"Hasil BMI adalah {int(berat_badan) / float(tinggi_badan) ** 2}\")"
      ],
      "metadata": {
        "colab": {
          "base_uri": "https://localhost:8080/"
        },
        "id": "bLRsilKSERM0",
        "outputId": "305889a2-df30-4a85-ae24-db5d6af83d5e"
      },
      "execution_count": null,
      "outputs": [
        {
          "output_type": "stream",
          "name": "stdout",
          "text": [
            "Berat badan (kg) : 49\n",
            "Tinggi badan (m) : 1.62\n",
            "Hasil BMI adalah 18.670934308794386\n"
          ]
        }
      ]
    },
    {
      "cell_type": "code",
      "source": [
        "# Day 2.3\n",
        "\n",
        "# pertahun ada 365 hari, 52 minggu, dan 12 bulan\n",
        "\n",
        "umur = input(\"Sisa hari, minggu, dan bulan jika umurmu mencapai 90 tahun!\\nBerapa umur mu sekarang : \")\n",
        "sisa_umur = 90 - int(umur)\n",
        "print (f\"Umurmu sisa {sisa_umur * 365} hari, {sisa_umur * 52} minggu, dan {sisa_umur * 12} bulan\")"
      ],
      "metadata": {
        "colab": {
          "base_uri": "https://localhost:8080/"
        },
        "id": "2s-mOe6NGQhB",
        "outputId": "b0a801af-a2a5-4f5d-c674-ba8224321ed7"
      },
      "execution_count": null,
      "outputs": [
        {
          "output_type": "stream",
          "name": "stdout",
          "text": [
            "Sisa hari, minggu, dan bulan jika umurmu mencapai 90 tahun!\n",
            "Berapa umur mu sekarang : 16\n",
            "Umurmu sisa 27010 hari, 3848 minggu, dan 888 bulan\n"
          ]
        }
      ]
    },
    {
      "cell_type": "code",
      "source": [
        "# Day 2.4\n",
        "\n",
        "print (\"Tip Calculator\")\n",
        "biaya = input(\"Berapa total biaya? Rp\")\n",
        "tip = input(\"Berapa persen tip yang ingin anda berikan \")\n",
        "banyak_orang = input(\"Berapa banyak orang membayar \")\n",
        "total_biaya = (((int(tip) / 100) * int(biaya)) + int(biaya))\n",
        "print(f\"Total biaya adalah {biaya}, tip dibagiakan {tip} persen, dan banyak orang adalah {banyak_orang}, maka setiap orang membayar {round(total_biaya / int(banyak_orang))}\")"
      ],
      "metadata": {
        "colab": {
          "base_uri": "https://localhost:8080/"
        },
        "id": "yIqst7SvHsjQ",
        "outputId": "831c18ac-c189-49c9-e22e-18e44c341bee"
      },
      "execution_count": null,
      "outputs": [
        {
          "output_type": "stream",
          "name": "stdout",
          "text": [
            "Tip Calculator\n",
            "Berapa total biaya? Rp10000\n",
            "Berapa persen tip yang ingin anda berikan 10\n",
            "Berapa banyak orang membayar 2\n",
            "Total biaya adalah 10000, tip dibagiakan 10 persen, dan banyak orang adalah 2, maka setiap orang membayar 5500\n"
          ]
        }
      ]
    },
    {
      "cell_type": "code",
      "source": [
        "# Day 3.1\n",
        "\n",
        "angka = input(\"Bilangan apa yang ingin anda cek? \")\n",
        "if int(angka) % 2 == 0:\n",
        "  print (f\"Bilangan {angka} adalah bilangan genap\")\n",
        "else:\n",
        "  print (f\"Bilangan {angka} adalah bilangan ganjil\")"
      ],
      "metadata": {
        "colab": {
          "base_uri": "https://localhost:8080/"
        },
        "id": "QAJQU2c6mgZA",
        "outputId": "ff4e6539-921a-4493-8cbd-63f7b1251dbd"
      },
      "execution_count": null,
      "outputs": [
        {
          "output_type": "stream",
          "name": "stdout",
          "text": [
            "Bilangan apa yang ingin anda cek? 9\n",
            "Bilangan 9 adalah bilangan ganjil\n"
          ]
        }
      ]
    },
    {
      "cell_type": "code",
      "source": [
        "# Day 3.2\n",
        "\n",
        "tinggi = input(\"Masukan tinggi badanmu dalam meter, m:\")\n",
        "berat = input(\"Masukan berat badanmu dalam kilogram, kg:\")\n",
        "\n",
        "bmiF = float(berat) / (float(tinggi) ** 2) + 1\n",
        "bmiI = int(bmiF)\n",
        "\n",
        "if bmiF < 18.5:\n",
        "  print (f\"BMI mu adalah {bmiI}, kamu kekurangan berat badan\")\n",
        "elif bmiF < 25:\n",
        "  print (f\"BMI mu adalah {bmiI}, kamu memiliki berat badan yang normal\")\n",
        "elif bmiF < 30:\n",
        "  print (f\"BMI mu adalah {bmiI}, kamu sedikit kelebihan berat badan\")\n",
        "elif bmiF < 35:\n",
        "  print (f\"BMI mu adalah {bmiI}, kamu obesitas\")\n",
        "else:\n",
        "  print (f\"BMI mu adalah {bmiI}, kamu mempunyai kelainan berat badan\")"
      ],
      "metadata": {
        "colab": {
          "base_uri": "https://localhost:8080/"
        },
        "id": "hoDsEtpknt9j",
        "outputId": "4269a9a0-141a-494a-d7bf-efadd40a5c13"
      },
      "execution_count": null,
      "outputs": [
        {
          "output_type": "stream",
          "name": "stdout",
          "text": [
            "Masukan tinggi badanmu dalam meter, m:1.62\n",
            "Masukan berat badanmu dalam kilogram, kg:50\n",
            "BMI mu adalah 20, kamu memiliki berat badan yang normal\n"
          ]
        }
      ]
    },
    {
      "cell_type": "code",
      "source": [
        "# Day 3.3\n",
        "\n",
        "tahun = int(input(\"tahun berapa yang ingin anda cek? \"))\n",
        "\n",
        "if tahun % 4 == 0:\n",
        "  print (f\"tahun {tahun} adalah tahun kabisat\")\n",
        "else:\n",
        "  print (f\"tahun {tahun} bukan tahun kabisat\")"
      ],
      "metadata": {
        "colab": {
          "base_uri": "https://localhost:8080/"
        },
        "id": "uYSvQ50nqovN",
        "outputId": "d418fad5-a665-44d8-d452-9216dd35efba"
      },
      "execution_count": null,
      "outputs": [
        {
          "output_type": "stream",
          "name": "stdout",
          "text": [
            "tahun berapa yang ingin anda cek? 2003\n",
            "tahun 2003, bukan tahun kabisat\n"
          ]
        }
      ]
    },
    {
      "cell_type": "code",
      "source": [
        "# Day 3.4\n",
        "\n",
        "ukuran = input(\"Ukuran pizza apa yang anda pesan? k (Kecil), s (Sedang), b (Besar) : \")\n",
        "peperoni = input(\"Apakah kamu mau menambahkan peperoni? y (iya), t (tidak) : \")\n",
        "keju = input(\"Apakah kamu ingin menambahkan extra keju? y (iya), t (tidak) : \")\n",
        "\n",
        "if ukuran == \"k\":\n",
        "  biaya = 15\n",
        "  if peperoni == \"y\":\n",
        "    biaya += 3\n",
        "  if keju == \"y\":\n",
        "    biaya += 1\n",
        "elif ukuran == \"s\":\n",
        "  biaya = 20\n",
        "  if peperoni == \"y\":\n",
        "    biaya += 3\n",
        "  if keju == \"y\":\n",
        "    biaya += 1\n",
        "else:\n",
        "  biaya = 35\n",
        "  if peperoni == \"y\":\n",
        "    biaya += 3\n",
        "  if keju == \"y\":\n",
        "    biaya += 1\n",
        "print (f\"Biaya pizza keseluruhan adalah Rp{biaya}.000,00\")"
      ],
      "metadata": {
        "id": "AvPDvyw5swzo",
        "colab": {
          "base_uri": "https://localhost:8080/"
        },
        "outputId": "1f011c32-9cf6-4ed1-b05d-7cf427c2f700"
      },
      "execution_count": null,
      "outputs": [
        {
          "output_type": "stream",
          "name": "stdout",
          "text": [
            "Ukuran pizza apa yang anda pesan? k (Kecil), s (Sedang), b (Besar) : b\n",
            "Apakah kamu mau menambahkan peperoni? y (iya), t (tidak) : y\n",
            "Apakah kamu ingin menambahkan extra keju? y (iya), t (tidak) : y\n",
            "Biaya pizza keseluruhan adalah Rp39.000,00\n"
          ]
        }
      ]
    },
    {
      "cell_type": "code",
      "source": [
        "# Day 3.5\n",
        "\n",
        "namaku = input(\"Siapa namamu? \")\n",
        "namamu = input(\"Siapa nama dia? \")\n",
        "\n",
        "nama1 = namaku.lower()\n",
        "nama2 = namaku.lower()\n",
        "\n",
        "nama = (f\"{nama1}{nama2}\")\n",
        "\n",
        "t = nama.count(\"t\")\n",
        "r = nama.count(\"r\")\n",
        "u = nama.count(\"u\")\n",
        "e = nama.count(\"e\")\n",
        "l = nama.count(\"l\")\n",
        "o = nama.count(\"o\")\n",
        "v = nama.count(\"v\")\n",
        "\n",
        "a = t + r + u + e\n",
        "b = l + o + v + e\n",
        "\n",
        "skor = str(a) + str(b)\n",
        "skor = int(skor)\n",
        "\n",
        "if skor < 10 or skor > 90:\n",
        "  print (\"kalian tidak cocok bersama\")\n",
        "elif skor > 40 or skor < 50:\n",
        "  print (\"kalian cocok bersama\")\n",
        "else:\n",
        "  print (\"kesempatan kalian 50/50\")"
      ],
      "metadata": {
        "colab": {
          "base_uri": "https://localhost:8080/"
        },
        "id": "aybP1PBm077P",
        "outputId": "c4d421a6-c2e1-49b4-cc0d-b5dce7e03ca6"
      },
      "execution_count": null,
      "outputs": [
        {
          "output_type": "stream",
          "name": "stdout",
          "text": [
            "Siapa namamu? hudha\n",
            "Siapa nama dia? rahel\n",
            "kalian cocok bersama\n"
          ]
        }
      ]
    },
    {
      "cell_type": "code",
      "source": [
        "# Day 4.1\n",
        "\n",
        "import random\n",
        "\n",
        "angka = random.randint(1,2)\n",
        "\n",
        "if angka == 1:\n",
        "  print (\"Kepala\")\n",
        "else:\n",
        "  print (\"Ekor\")"
      ],
      "metadata": {
        "colab": {
          "base_uri": "https://localhost:8080/"
        },
        "id": "v2VTwVIHxYSY",
        "outputId": "cc65b4e3-6c8a-49e5-88ce-bd9066b567da"
      },
      "execution_count": null,
      "outputs": [
        {
          "output_type": "stream",
          "name": "stdout",
          "text": [
            "Ekor\n"
          ]
        }
      ]
    },
    {
      "cell_type": "code",
      "source": [
        "# Day 4.2\n",
        "\n",
        "import random\n",
        "\n",
        "nama = input(\"Tuliskan nama orang-orang dengan dipisahakan dengan tanda koma\\n\")\n",
        "nama_ = nama.split(\", \")\n",
        "\n",
        "akhir = len(nama_)\n",
        "akhir_ = akhir - 1\n",
        "pilihan = random.randint(0, akhir_)\n",
        "print (f\"yang mentraktir hari ini adalah {nama_[pilihan]}\")"
      ],
      "metadata": {
        "colab": {
          "base_uri": "https://localhost:8080/"
        },
        "id": "wwXq6RtX0YWS",
        "outputId": "b479c6cf-4af6-4dd5-9688-7d4dc045e827"
      },
      "execution_count": null,
      "outputs": [
        {
          "output_type": "stream",
          "name": "stdout",
          "text": [
            "Tuliskan nama orang-orang dengan dipisahakan dengan tanda koma\n",
            "elsan, hudha, febri, aris\n",
            "yang mentraktir hari ini adalah aris\n"
          ]
        }
      ]
    },
    {
      "cell_type": "code",
      "source": [
        "# Day 4.3\n",
        "\n",
        "baris1 = [\"o\",\"️o\",\"️o\"]\n",
        "baris2 = [\"o\",\"o\",\"️o\"]\n",
        "baris3 = [\"o\",\"o\",\"o\"]\n",
        "map = [baris1, baris2, baris3]\n",
        "print(f\"{baris1}\\n{baris2}\\n{baris3}\")\n",
        "posisi = input('Dimana anda ingin menaruh harta karun\\ncontoh baris 1 kolom 2 makan tuliskan \"12\"\\n')\n",
        "\n",
        "horizontal = int(posisi[0])\n",
        "vertical = int(posisi[1])\n",
        "\n",
        "vp = map[vertical - 1]\n",
        "vp[horizontal - 1] = \"X\"\n",
        "print(f\"{baris1}\\n{baris2}\\n{baris3}\")"
      ],
      "metadata": {
        "colab": {
          "base_uri": "https://localhost:8080/"
        },
        "id": "IMf-Q7G32V--",
        "outputId": "b3437f5a-154e-4cef-caa6-d002b9c20075"
      },
      "execution_count": null,
      "outputs": [
        {
          "output_type": "stream",
          "name": "stdout",
          "text": [
            "['o', '️o', '️o']\n",
            "['o', 'o', '️o']\n",
            "['o', 'o', 'o']\n",
            "Dimana anda ingin menaruh harta karun\n",
            "contoh baris 1 kolom 2 makan tuliskan \"12\"\n",
            "33\n",
            "['o', '️o', '️o']\n",
            "['o', 'o', '️o']\n",
            "['o', 'o', 'X']\n"
          ]
        }
      ]
    },
    {
      "cell_type": "code",
      "source": [
        "# Day 4.4\n",
        "\n",
        "print(\"pilih [1] Gunting, [2] Batu, [3] Kertas\")\n",
        "\n",
        "import random\n",
        "\n",
        "main = [\"null\", \"batu\", \"gunting\", \"kertas\"]\n",
        "\n",
        "\n",
        "def play():\n",
        "\n",
        "  chose = input (\"Pilih salah satu! \")\n",
        "  player = main[int(chose)]\n",
        "\n",
        "  bot = random.randint(1,3)\n",
        "  com = main[bot]\n",
        "\n",
        "  print(f\"kamu memilih {player}\")\n",
        "  print(f\"computer memilih {com}\")\n",
        "\n",
        "  if player == com:\n",
        "    print(\"Hasil seri\")\n",
        "  elif player == main[1] and com == main[2]:\n",
        "    print (\"Kamu menang\")\n",
        "  elif player == main[2] and com == main[3]:\n",
        "    print(\"Kamu menang\")\n",
        "  elif player == main[3] and com == main[1]:\n",
        "    print(\"Kamu menang\")\n",
        "  else:\n",
        "    print(\"Kamu kalah\")\n",
        "\n",
        "play()"
      ],
      "metadata": {
        "id": "wkm5KlMC4EkI",
        "colab": {
          "base_uri": "https://localhost:8080/"
        },
        "outputId": "00dfdbd9-ee7a-4c6a-a651-bb1806e33f19"
      },
      "execution_count": 5,
      "outputs": [
        {
          "output_type": "stream",
          "name": "stdout",
          "text": [
            "pilih [1] Gunting, [2] Batu, [3] Kertas\n",
            "Pilih salah satu! 2\n",
            "kamu memilih gunting\n",
            "computer memilih gunting\n",
            "Hasil seri\n"
          ]
        }
      ]
    }
  ]
}